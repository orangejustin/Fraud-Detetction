{
 "cells": [
  {
   "cell_type": "code",
   "execution_count": 3,
   "id": "b604989f",
   "metadata": {},
   "outputs": [],
   "source": [
    "from NeuronNetwork import NeuronNetwork\n",
    "from ProbablityEstimation import ProbabilityEstimation\n",
    "import pandas\n",
    "import numpy as np\n",
    "import os\n",
    "import tensorflow as tf"
   ]
  },
  {
   "cell_type": "markdown",
   "id": "32bb4726",
   "metadata": {},
   "source": [
    "## On PCA_30 data"
   ]
  },
  {
   "cell_type": "code",
   "execution_count": 3,
   "id": "e11a3cef",
   "metadata": {},
   "outputs": [],
   "source": [
    "filePath = r\"X_pca_30.csv\"\n",
    "data = pandas.read_csv(filePath)\n",
    "dataNP = data.to_numpy()"
   ]
  },
  {
   "cell_type": "code",
   "execution_count": 4,
   "id": "bbccae4c",
   "metadata": {},
   "outputs": [
    {
     "name": "stdout",
     "output_type": "stream",
     "text": [
      "0 1 2 3 4 5 6 7 8 9 10 11 12 13 14 15 16 17 18 19 20 21 22 23 24 25 26 27 28 29 30 31 32 33 34 35 36 37 38 39 40 41 42 43 44 45 46 47 48 49 50 51 52 53 54 55 56 57 58 59 60 61 62 63 64 65 66 67 68 69 70 71 72 73 74 75 76 77 78 79 80 81 82 83 84 85 86 87 88 89 90 91 92 93 94 95 96 97 98 99 "
     ]
    }
   ],
   "source": [
    "batchSize = int(dataNP.shape[0] / 100)\n",
    "cluster = None\n",
    "prob = None\n",
    "\n",
    "for i in range(100):\n",
    "    dataNPSegment = dataNP[i: i+batchSize]\n",
    "    pe = ProbabilityEstimation(dataNPSegment, 20)\n",
    "    pe.run()\n",
    "    currentCluster, _ = pe.getDataSets(1)\n",
    "    currentCluster = tf.constant(currentCluster)\n",
    "\n",
    "    if cluster is None:\n",
    "        cluster = currentCluster\n",
    "    else:\n",
    "        cluster = tf.concat([cluster, currentCluster], 0)\n",
    "        \n",
    "    print(i, end=' ')"
   ]
  },
  {
   "cell_type": "code",
   "execution_count": 5,
   "id": "2ed1aba8",
   "metadata": {},
   "outputs": [
    {
     "data": {
      "text/plain": [
       "0"
      ]
     },
     "execution_count": 5,
     "metadata": {},
     "output_type": "execute_result"
    }
   ],
   "source": [
    "import gc\n",
    "gc.collect()\n",
    "\n",
    "def muLaw(x, mu=255):\n",
    "    temp = np.sign(x) * np.log(1+mu*np.abs(x)) / np.log(1+mu)\n",
    "    return ((temp+1)/2 * mu)\n",
    "def deMuLaw(x, mu=255):\n",
    "    temp = 2 * (x-mu/2)/mu\n",
    "    return np.sign(temp) * (1/mu) * ((1+mu)**np.abs(temp) -1)\n",
    "\n",
    "pe = ProbabilityEstimation(dataNP, cluster.shape[1])\n",
    "pe.Kmus  = cluster.numpy()\n",
    "_, prob = pe.getDataSets()\n",
    "prob = muLaw(prob)\n",
    "prob = tf.constant(prob)\n",
    "\n",
    "gc.collect()"
   ]
  },
  {
   "cell_type": "code",
   "execution_count": 6,
   "id": "91ffdfcb",
   "metadata": {},
   "outputs": [],
   "source": [
    "cluster = tf.reshape(cluster, [cluster.shape[0], cluster.shape[1], 1])\n",
    "cluster = tf.cast(cluster, tf.float32)\n",
    "prob = tf.reshape(prob, [prob.shape[0], 1, 1])\n",
    "prob = tf.cast(prob, tf.float32)"
   ]
  },
  {
   "cell_type": "code",
   "execution_count": 8,
   "id": "bada4b0c",
   "metadata": {
    "scrolled": false
   },
   "outputs": [
    {
     "name": "stdout",
     "output_type": "stream",
     "text": [
      "Epoch:  1 ; Loss:tf.Tensor(0.24192943, shape=(), dtype=float32)\n",
      "Epoch:  2 ; Loss:tf.Tensor(0.241928, shape=(), dtype=float32)\n",
      "Epoch:  3 ; Loss:tf.Tensor(0.24192658, shape=(), dtype=float32)\n",
      "Epoch:  4 ; Loss:tf.Tensor(0.24192514, shape=(), dtype=float32)\n",
      "Epoch:  5 ; Loss:tf.Tensor(0.24192367, shape=(), dtype=float32)\n",
      "Epoch:  6 ; Loss:tf.Tensor(0.24192221, shape=(), dtype=float32)\n",
      "Epoch:  7 ; Loss:tf.Tensor(0.24192075, shape=(), dtype=float32)\n",
      "Epoch:  8 ; Loss:tf.Tensor(0.24191923, shape=(), dtype=float32)\n",
      "Epoch:  9 ; Loss:tf.Tensor(0.24191773, shape=(), dtype=float32)\n",
      "Epoch:  10 ; Loss:tf.Tensor(0.2419162, shape=(), dtype=float32)\n",
      "Epoch:  11 ; Loss:tf.Tensor(0.24191466, shape=(), dtype=float32)\n",
      "Epoch:  12 ; Loss:tf.Tensor(0.24191311, shape=(), dtype=float32)\n",
      "Epoch:  13 ; Loss:tf.Tensor(0.24191155, shape=(), dtype=float32)\n",
      "Epoch:  14 ; Loss:tf.Tensor(0.24190998, shape=(), dtype=float32)\n",
      "Epoch:  15 ; Loss:tf.Tensor(0.24190837, shape=(), dtype=float32)\n",
      "Epoch:  16 ; Loss:tf.Tensor(0.24190676, shape=(), dtype=float32)\n",
      "Epoch:  17 ; Loss:tf.Tensor(0.24190514, shape=(), dtype=float32)\n",
      "Epoch:  18 ; Loss:tf.Tensor(0.24190348, shape=(), dtype=float32)\n",
      "Epoch:  19 ; Loss:tf.Tensor(0.24190186, shape=(), dtype=float32)\n",
      "Epoch:  20 ; Loss:tf.Tensor(0.24190016, shape=(), dtype=float32)\n",
      "Epoch:  21 ; Loss:tf.Tensor(0.24189848, shape=(), dtype=float32)\n",
      "Epoch:  22 ; Loss:tf.Tensor(0.24189673, shape=(), dtype=float32)\n",
      "Epoch:  23 ; Loss:tf.Tensor(0.24189503, shape=(), dtype=float32)\n",
      "Epoch:  24 ; Loss:tf.Tensor(0.24189329, shape=(), dtype=float32)\n",
      "Epoch:  25 ; Loss:tf.Tensor(0.24189153, shape=(), dtype=float32)\n",
      "Epoch:  26 ; Loss:tf.Tensor(0.24188974, shape=(), dtype=float32)\n",
      "Epoch:  27 ; Loss:tf.Tensor(0.24188796, shape=(), dtype=float32)\n",
      "Epoch:  28 ; Loss:tf.Tensor(0.24188615, shape=(), dtype=float32)\n",
      "Epoch:  29 ; Loss:tf.Tensor(0.2418843, shape=(), dtype=float32)\n",
      "Epoch:  30 ; Loss:tf.Tensor(0.24188246, shape=(), dtype=float32)\n",
      "Epoch:  31 ; Loss:tf.Tensor(0.24188061, shape=(), dtype=float32)\n",
      "Epoch:  32 ; Loss:tf.Tensor(0.24187872, shape=(), dtype=float32)\n",
      "Epoch:  33 ; Loss:tf.Tensor(0.2418768, shape=(), dtype=float32)\n",
      "Epoch:  34 ; Loss:tf.Tensor(0.24187487, shape=(), dtype=float32)\n",
      "Epoch:  35 ; Loss:tf.Tensor(0.24187295, shape=(), dtype=float32)\n",
      "Epoch:  36 ; Loss:tf.Tensor(0.241871, shape=(), dtype=float32)\n",
      "Epoch:  37 ; Loss:tf.Tensor(0.241869, shape=(), dtype=float32)\n",
      "Epoch:  38 ; Loss:tf.Tensor(0.24186699, shape=(), dtype=float32)\n",
      "Epoch:  39 ; Loss:tf.Tensor(0.241865, shape=(), dtype=float32)\n",
      "Epoch:  40 ; Loss:tf.Tensor(0.24186292, shape=(), dtype=float32)\n",
      "Epoch:  41 ; Loss:tf.Tensor(0.24186088, shape=(), dtype=float32)\n",
      "Epoch:  42 ; Loss:tf.Tensor(0.24185878, shape=(), dtype=float32)\n",
      "Epoch:  43 ; Loss:tf.Tensor(0.24185666, shape=(), dtype=float32)\n",
      "Epoch:  44 ; Loss:tf.Tensor(0.2418545, shape=(), dtype=float32)\n",
      "Epoch:  45 ; Loss:tf.Tensor(0.24185236, shape=(), dtype=float32)\n",
      "Epoch:  46 ; Loss:tf.Tensor(0.24185014, shape=(), dtype=float32)\n",
      "Epoch:  47 ; Loss:tf.Tensor(0.24184795, shape=(), dtype=float32)\n",
      "Epoch:  48 ; Loss:tf.Tensor(0.2418457, shape=(), dtype=float32)\n",
      "Epoch:  49 ; Loss:tf.Tensor(0.24184343, shape=(), dtype=float32)\n",
      "Epoch:  50 ; Loss:tf.Tensor(0.24184112, shape=(), dtype=float32)\n",
      "Epoch:  51 ; Loss:tf.Tensor(0.24183881, shape=(), dtype=float32)\n",
      "Epoch:  52 ; Loss:tf.Tensor(0.24183647, shape=(), dtype=float32)\n",
      "Epoch:  53 ; Loss:tf.Tensor(0.2418341, shape=(), dtype=float32)\n",
      "Epoch:  54 ; Loss:tf.Tensor(0.24183169, shape=(), dtype=float32)\n",
      "Epoch:  55 ; Loss:tf.Tensor(0.24182929, shape=(), dtype=float32)\n",
      "Epoch:  56 ; Loss:tf.Tensor(0.24182682, shape=(), dtype=float32)\n",
      "Epoch:  57 ; Loss:tf.Tensor(0.24182433, shape=(), dtype=float32)\n",
      "Epoch:  58 ; Loss:tf.Tensor(0.24182181, shape=(), dtype=float32)\n",
      "Epoch:  59 ; Loss:tf.Tensor(0.24181926, shape=(), dtype=float32)\n",
      "Epoch:  60 ; Loss:tf.Tensor(0.24181667, shape=(), dtype=float32)\n",
      "Epoch:  61 ; Loss:tf.Tensor(0.24181408, shape=(), dtype=float32)\n",
      "Epoch:  62 ; Loss:tf.Tensor(0.24181142, shape=(), dtype=float32)\n",
      "Epoch:  63 ; Loss:tf.Tensor(0.24180876, shape=(), dtype=float32)\n",
      "Epoch:  64 ; Loss:tf.Tensor(0.24180606, shape=(), dtype=float32)\n",
      "Epoch:  65 ; Loss:tf.Tensor(0.24180333, shape=(), dtype=float32)\n",
      "Epoch:  66 ; Loss:tf.Tensor(0.24180055, shape=(), dtype=float32)\n",
      "Epoch:  67 ; Loss:tf.Tensor(0.24179776, shape=(), dtype=float32)\n",
      "Epoch:  68 ; Loss:tf.Tensor(0.24179494, shape=(), dtype=float32)\n",
      "Epoch:  69 ; Loss:tf.Tensor(0.24179205, shape=(), dtype=float32)\n",
      "Epoch:  70 ; Loss:tf.Tensor(0.24178915, shape=(), dtype=float32)\n",
      "Epoch:  71 ; Loss:tf.Tensor(0.2417862, shape=(), dtype=float32)\n",
      "Epoch:  72 ; Loss:tf.Tensor(0.24178319, shape=(), dtype=float32)\n",
      "Epoch:  73 ; Loss:tf.Tensor(0.24178018, shape=(), dtype=float32)\n",
      "Epoch:  74 ; Loss:tf.Tensor(0.2417771, shape=(), dtype=float32)\n",
      "Epoch:  75 ; Loss:tf.Tensor(0.24177398, shape=(), dtype=float32)\n",
      "Epoch:  76 ; Loss:tf.Tensor(0.24177085, shape=(), dtype=float32)\n",
      "Epoch:  77 ; Loss:tf.Tensor(0.24176763, shape=(), dtype=float32)\n",
      "Epoch:  78 ; Loss:tf.Tensor(0.24176438, shape=(), dtype=float32)\n",
      "Epoch:  79 ; Loss:tf.Tensor(0.2417611, shape=(), dtype=float32)\n",
      "Epoch:  80 ; Loss:tf.Tensor(0.24175778, shape=(), dtype=float32)\n",
      "Epoch:  81 ; Loss:tf.Tensor(0.2417544, shape=(), dtype=float32)\n",
      "Epoch:  82 ; Loss:tf.Tensor(0.24175097, shape=(), dtype=float32)\n",
      "Epoch:  83 ; Loss:tf.Tensor(0.24174751, shape=(), dtype=float32)\n",
      "Epoch:  84 ; Loss:tf.Tensor(0.24174398, shape=(), dtype=float32)\n",
      "Epoch:  85 ; Loss:tf.Tensor(0.24174042, shape=(), dtype=float32)\n",
      "Epoch:  86 ; Loss:tf.Tensor(0.24173684, shape=(), dtype=float32)\n",
      "Epoch:  87 ; Loss:tf.Tensor(0.24173315, shape=(), dtype=float32)\n",
      "Epoch:  88 ; Loss:tf.Tensor(0.24172947, shape=(), dtype=float32)\n",
      "Epoch:  89 ; Loss:tf.Tensor(0.24172567, shape=(), dtype=float32)\n",
      "Epoch:  90 ; Loss:tf.Tensor(0.24172184, shape=(), dtype=float32)\n",
      "Epoch:  91 ; Loss:tf.Tensor(0.24171793, shape=(), dtype=float32)\n",
      "Epoch:  92 ; Loss:tf.Tensor(0.24171397, shape=(), dtype=float32)\n",
      "Epoch:  93 ; Loss:tf.Tensor(0.24170996, shape=(), dtype=float32)\n",
      "Epoch:  94 ; Loss:tf.Tensor(0.24170591, shape=(), dtype=float32)\n",
      "Epoch:  95 ; Loss:tf.Tensor(0.24170177, shape=(), dtype=float32)\n",
      "Epoch:  96 ; Loss:tf.Tensor(0.24169756, shape=(), dtype=float32)\n",
      "Epoch:  97 ; Loss:tf.Tensor(0.24169333, shape=(), dtype=float32)\n",
      "Epoch:  98 ; Loss:tf.Tensor(0.24168898, shape=(), dtype=float32)\n",
      "Epoch:  99 ; Loss:tf.Tensor(0.24168462, shape=(), dtype=float32)\n",
      "Epoch:  100 ; Loss:tf.Tensor(0.24168015, shape=(), dtype=float32)\n",
      "Epoch:  101 ; Loss:tf.Tensor(0.24167562, shape=(), dtype=float32)\n",
      "Epoch:  102 ; Loss:tf.Tensor(0.24167103, shape=(), dtype=float32)\n",
      "Epoch:  103 ; Loss:tf.Tensor(0.24166633, shape=(), dtype=float32)\n",
      "Epoch:  104 ; Loss:tf.Tensor(0.24166158, shape=(), dtype=float32)\n",
      "Epoch:  105 ; Loss:tf.Tensor(0.24165672, shape=(), dtype=float32)\n",
      "Epoch:  106 ; Loss:tf.Tensor(0.2416518, shape=(), dtype=float32)\n",
      "Epoch:  107 ; Loss:tf.Tensor(0.2416468, shape=(), dtype=float32)\n",
      "Epoch:  108 ; Loss:tf.Tensor(0.24164172, shape=(), dtype=float32)\n",
      "Epoch:  109 ; Loss:tf.Tensor(0.24163653, shape=(), dtype=float32)\n",
      "Epoch:  110 ; Loss:tf.Tensor(0.2416313, shape=(), dtype=float32)\n",
      "Epoch:  111 ; Loss:tf.Tensor(0.24162593, shape=(), dtype=float32)\n",
      "Epoch:  112 ; Loss:tf.Tensor(0.24162048, shape=(), dtype=float32)\n",
      "Epoch:  113 ; Loss:tf.Tensor(0.24161494, shape=(), dtype=float32)\n",
      "Epoch:  114 ; Loss:tf.Tensor(0.2416093, shape=(), dtype=float32)\n",
      "Epoch:  115 ; Loss:tf.Tensor(0.24160354, shape=(), dtype=float32)\n",
      "Epoch:  116 ; Loss:tf.Tensor(0.24159767, shape=(), dtype=float32)\n",
      "Epoch:  117 ; Loss:tf.Tensor(0.24159174, shape=(), dtype=float32)\n",
      "Epoch:  118 ; Loss:tf.Tensor(0.24158567, shape=(), dtype=float32)\n",
      "Epoch:  119 ; Loss:tf.Tensor(0.2415795, shape=(), dtype=float32)\n",
      "Epoch:  120 ; Loss:tf.Tensor(0.24157321, shape=(), dtype=float32)\n",
      "Epoch:  121 ; Loss:tf.Tensor(0.24156679, shape=(), dtype=float32)\n",
      "Epoch:  122 ; Loss:tf.Tensor(0.24156022, shape=(), dtype=float32)\n",
      "Epoch:  123 ; Loss:tf.Tensor(0.24155354, shape=(), dtype=float32)\n",
      "Epoch:  124 ; Loss:tf.Tensor(0.24154678, shape=(), dtype=float32)\n",
      "Epoch:  125 ; Loss:tf.Tensor(0.24153984, shape=(), dtype=float32)\n",
      "Epoch:  126 ; Loss:tf.Tensor(0.24153276, shape=(), dtype=float32)\n",
      "Epoch:  127 ; Loss:tf.Tensor(0.24152553, shape=(), dtype=float32)\n"
     ]
    },
    {
     "name": "stdout",
     "output_type": "stream",
     "text": [
      "Epoch:  128 ; Loss:tf.Tensor(0.24151815, shape=(), dtype=float32)\n"
     ]
    }
   ],
   "source": [
    "prob = prob / 255\n",
    "ann = NeuronNetwork(cluster, prob)\n",
    "ann.train()"
   ]
  },
  {
   "cell_type": "code",
   "execution_count": 9,
   "id": "6c1811be",
   "metadata": {},
   "outputs": [
    {
     "name": "stdout",
     "output_type": "stream",
     "text": [
      "(590540, 1)\n"
     ]
    }
   ],
   "source": [
    "evalYPath = r\"D:\\y.csv\"\n",
    "dataEvalY = pandas.read_csv(evalYPath)\n",
    "dataEvalY = dataEvalY.to_numpy()\n",
    "print(dataEvalY.shape)"
   ]
  },
  {
   "cell_type": "code",
   "execution_count": 10,
   "id": "e2f3eb01",
   "metadata": {},
   "outputs": [],
   "source": [
    "dataOriX = tf.cast(tf.constant(dataNP[:,:,None]), tf.float32)"
   ]
  },
  {
   "cell_type": "code",
   "execution_count": 11,
   "id": "7e95c6de",
   "metadata": {},
   "outputs": [],
   "source": [
    "dataPredictY = ann.predict(dataOriX)"
   ]
  },
  {
   "cell_type": "code",
   "execution_count": 29,
   "id": "5151a63a",
   "metadata": {},
   "outputs": [],
   "source": [
    "dataPredictMappedY = deMuLaw(dataPredictY * 255).reshape([-1])\n",
    "pe = ProbabilityEstimation(dataPredictMappedY[:,None], 2)\n",
    "pe.run()\n",
    "mus,_ = pe.getDataSets()\n",
    "dataPredictMappedY = dataPredictMappedY.reshape([-1]) < [np.mean(mus)]"
   ]
  },
  {
   "cell_type": "code",
   "execution_count": 30,
   "id": "07e2da00",
   "metadata": {},
   "outputs": [],
   "source": [
    "dataEvalY = np.reshape(dataEvalY, [-1])"
   ]
  },
  {
   "cell_type": "code",
   "execution_count": 31,
   "id": "9f8bd826",
   "metadata": {},
   "outputs": [],
   "source": [
    "correctCount = np.sum(dataPredictMappedY == dataEvalY)"
   ]
  },
  {
   "cell_type": "code",
   "execution_count": 32,
   "id": "abb3bd08",
   "metadata": {},
   "outputs": [],
   "source": [
    "accuracy = correctCount / dataEvalY.shape[0]"
   ]
  },
  {
   "cell_type": "code",
   "execution_count": 33,
   "id": "d3191323",
   "metadata": {},
   "outputs": [
    {
     "name": "stdout",
     "output_type": "stream",
     "text": [
      "Accuracy:  0.962590171707251\n",
      "AUC:  0.5005885369556662\n"
     ]
    }
   ],
   "source": [
    "from sklearn.metrics import roc_auc_score\n",
    "print('Accuracy: ', accuracy)\n",
    "print('AUC: ', roc_auc_score(dataEvalY, dataPredictMappedY))"
   ]
  },
  {
   "cell_type": "markdown",
   "id": "3d0aa1d8",
   "metadata": {},
   "source": [
    "## One raw data"
   ]
  },
  {
   "cell_type": "code",
   "execution_count": 4,
   "id": "be6dbbd0",
   "metadata": {},
   "outputs": [
    {
     "name": "stdout",
     "output_type": "stream",
     "text": [
      "0 1 2 3 4 5 6 7 8 9 10 11 12 13 14 15 16 17 18 19 20 21 22 23 24 25 26 27 28 29 30 31 32 33 34 35 36 37 38 39 40 41 42 43 44 45 46 47 48 49 50 51 52 53 54 55 56 57 58 59 60 61 62 63 64 65 66 67 68 69 70 71 72 73 74 75 76 77 78 79 80 81 82 83 84 85 86 87 88 89 90 91 92 93 94 95 96 97 98 99 "
     ]
    }
   ],
   "source": [
    "filePath = r\"D:\\X.csv\"\n",
    "data = pandas.read_csv(filePath)\n",
    "dataNP = data.to_numpy()\n",
    "\n",
    "batchSize = int(dataNP.shape[0] / 100)\n",
    "cluster = None\n",
    "prob = None\n",
    "\n",
    "for i in range(100):\n",
    "    dataNPSegment = dataNP[i: i+batchSize]\n",
    "    pe = ProbabilityEstimation(dataNPSegment, 20)\n",
    "    pe.run()\n",
    "    currentCluster, _ = pe.getDataSets(1)\n",
    "    currentCluster = tf.constant(currentCluster)\n",
    "\n",
    "    if cluster is None:\n",
    "        cluster = currentCluster\n",
    "    else:\n",
    "        cluster = tf.concat([cluster, currentCluster], 0)\n",
    "        \n",
    "    print(i, end=' ')"
   ]
  },
  {
   "cell_type": "code",
   "execution_count": 8,
   "id": "66c00f95",
   "metadata": {},
   "outputs": [
    {
     "data": {
      "text/plain": [
       "479"
      ]
     },
     "execution_count": 8,
     "metadata": {},
     "output_type": "execute_result"
    }
   ],
   "source": [
    "import gc\n",
    "gc.collect()"
   ]
  },
  {
   "cell_type": "code",
   "execution_count": 7,
   "id": "a590cdd6",
   "metadata": {
    "collapsed": true
   },
   "outputs": [
    {
     "ename": "NameError",
     "evalue": "name 'muLaw' is not defined",
     "output_type": "error",
     "traceback": [
      "\u001b[1;31m---------------------------------------------------------------------------\u001b[0m",
      "\u001b[1;31mNameError\u001b[0m                                 Traceback (most recent call last)",
      "Input \u001b[1;32mIn [7]\u001b[0m, in \u001b[0;36m<module>\u001b[1;34m\u001b[0m\n\u001b[0;32m      4\u001b[0m pe\u001b[38;5;241m.\u001b[39mKmus  \u001b[38;5;241m=\u001b[39m cluster\u001b[38;5;241m.\u001b[39mnumpy()\n\u001b[0;32m      5\u001b[0m _, prob \u001b[38;5;241m=\u001b[39m pe\u001b[38;5;241m.\u001b[39mgetDataSets()\n\u001b[1;32m----> 6\u001b[0m prob \u001b[38;5;241m=\u001b[39m \u001b[43mmuLaw\u001b[49m(prob)\n\u001b[0;32m      7\u001b[0m prob \u001b[38;5;241m=\u001b[39m tf\u001b[38;5;241m.\u001b[39mconstant(prob)\n\u001b[0;32m      9\u001b[0m gc\u001b[38;5;241m.\u001b[39mcollect()\n",
      "\u001b[1;31mNameError\u001b[0m: name 'muLaw' is not defined"
     ]
    }
   ],
   "source": [
    "gc.collect()\n",
    "\n",
    "pe = ProbabilityEstimation(dataNP, cluster.shape[1])\n",
    "pe.Kmus  = cluster.numpy()\n",
    "_, prob = pe.getDataSets()\n",
    "prob = muLaw(prob)\n",
    "prob = tf.constant(prob)\n",
    "\n",
    "gc.collect()"
   ]
  },
  {
   "cell_type": "code",
   "execution_count": 9,
   "id": "8a0317cb",
   "metadata": {},
   "outputs": [
    {
     "data": {
      "text/plain": [
       "0"
      ]
     },
     "execution_count": 9,
     "metadata": {},
     "output_type": "execute_result"
    }
   ],
   "source": [
    "def muLaw(x, mu=255):\n",
    "    temp = np.sign(x) * np.log(1+mu*np.abs(x)) / np.log(1+mu)\n",
    "    return ((temp+1)/2 * mu)\n",
    "def deMuLaw(x, mu=255):\n",
    "    temp = 2 * (x-mu/2)/mu\n",
    "    return np.sign(temp) * (1/mu) * ((1+mu)**np.abs(temp) -1)\n",
    "\n",
    "prob = muLaw(prob)\n",
    "prob = tf.constant(prob)\n",
    "\n",
    "gc.collect()"
   ]
  },
  {
   "cell_type": "code",
   "execution_count": 10,
   "id": "8cf160b5",
   "metadata": {},
   "outputs": [],
   "source": [
    "cluster = tf.reshape(cluster, [cluster.shape[0], cluster.shape[1], 1])\n",
    "cluster = tf.cast(cluster, tf.float32)\n",
    "prob = tf.reshape(prob, [prob.shape[0], 1, 1])\n",
    "prob = tf.cast(prob, tf.float32)"
   ]
  },
  {
   "cell_type": "code",
   "execution_count": 11,
   "id": "e50a8ecf",
   "metadata": {},
   "outputs": [
    {
     "name": "stdout",
     "output_type": "stream",
     "text": [
      "Epoch:  1 ; Loss:tf.Tensor(0.17643099, shape=(), dtype=float32)\n",
      "Epoch:  2 ; Loss:tf.Tensor(0.14298393, shape=(), dtype=float32)\n",
      "Epoch:  3 ; Loss:tf.Tensor(0.13288258, shape=(), dtype=float32)\n",
      "Epoch:  4 ; Loss:tf.Tensor(0.14642225, shape=(), dtype=float32)\n",
      "Epoch:  5 ; Loss:tf.Tensor(0.14346656, shape=(), dtype=float32)\n",
      "Epoch:  6 ; Loss:tf.Tensor(0.1531073, shape=(), dtype=float32)\n",
      "Epoch:  7 ; Loss:tf.Tensor(0.13316706, shape=(), dtype=float32)\n",
      "Epoch:  8 ; Loss:tf.Tensor(0.13742068, shape=(), dtype=float32)\n",
      "Epoch:  9 ; Loss:tf.Tensor(0.13065656, shape=(), dtype=float32)\n",
      "Epoch:  10 ; Loss:tf.Tensor(0.12512001, shape=(), dtype=float32)\n",
      "Epoch:  11 ; Loss:tf.Tensor(0.121760026, shape=(), dtype=float32)\n",
      "Epoch:  12 ; Loss:tf.Tensor(0.11835939, shape=(), dtype=float32)\n",
      "Epoch:  13 ; Loss:tf.Tensor(0.115070075, shape=(), dtype=float32)\n",
      "Epoch:  14 ; Loss:tf.Tensor(0.106517, shape=(), dtype=float32)\n",
      "Epoch:  15 ; Loss:tf.Tensor(0.10913654, shape=(), dtype=float32)\n",
      "Epoch:  16 ; Loss:tf.Tensor(0.10561132, shape=(), dtype=float32)\n",
      "Epoch:  17 ; Loss:tf.Tensor(0.107331365, shape=(), dtype=float32)\n",
      "Epoch:  18 ; Loss:tf.Tensor(0.11168693, shape=(), dtype=float32)\n",
      "Epoch:  19 ; Loss:tf.Tensor(0.110570244, shape=(), dtype=float32)\n",
      "Epoch:  20 ; Loss:tf.Tensor(0.10641875, shape=(), dtype=float32)\n",
      "Epoch:  21 ; Loss:tf.Tensor(0.1045995, shape=(), dtype=float32)\n",
      "Epoch:  22 ; Loss:tf.Tensor(0.10688546, shape=(), dtype=float32)\n",
      "Epoch:  23 ; Loss:tf.Tensor(0.09604852, shape=(), dtype=float32)\n",
      "Epoch:  24 ; Loss:tf.Tensor(0.09679207, shape=(), dtype=float32)\n",
      "Epoch:  25 ; Loss:tf.Tensor(0.10080251, shape=(), dtype=float32)\n",
      "Epoch:  26 ; Loss:tf.Tensor(0.10655718, shape=(), dtype=float32)\n",
      "Epoch:  27 ; Loss:tf.Tensor(0.09979455, shape=(), dtype=float32)\n",
      "Epoch:  28 ; Loss:tf.Tensor(0.10964698, shape=(), dtype=float32)\n",
      "Epoch:  29 ; Loss:tf.Tensor(0.07914055, shape=(), dtype=float32)\n",
      "Epoch:  30 ; Loss:tf.Tensor(0.08594932, shape=(), dtype=float32)\n",
      "Epoch:  31 ; Loss:tf.Tensor(0.101126276, shape=(), dtype=float32)\n",
      "Epoch:  32 ; Loss:tf.Tensor(0.07549916, shape=(), dtype=float32)\n",
      "Epoch:  33 ; Loss:tf.Tensor(0.075909965, shape=(), dtype=float32)\n",
      "Epoch:  34 ; Loss:tf.Tensor(0.10633194, shape=(), dtype=float32)\n",
      "Epoch:  35 ; Loss:tf.Tensor(0.087488495, shape=(), dtype=float32)\n",
      "Epoch:  36 ; Loss:tf.Tensor(0.06840779, shape=(), dtype=float32)\n",
      "Epoch:  37 ; Loss:tf.Tensor(0.07512432, shape=(), dtype=float32)\n",
      "Epoch:  38 ; Loss:tf.Tensor(0.07329999, shape=(), dtype=float32)\n",
      "Epoch:  39 ; Loss:tf.Tensor(0.0889714, shape=(), dtype=float32)\n",
      "Epoch:  40 ; Loss:tf.Tensor(0.0773324, shape=(), dtype=float32)\n",
      "Epoch:  41 ; Loss:tf.Tensor(0.07286626, shape=(), dtype=float32)\n",
      "Epoch:  42 ; Loss:tf.Tensor(0.062135193, shape=(), dtype=float32)\n",
      "Epoch:  43 ; Loss:tf.Tensor(0.06950139, shape=(), dtype=float32)\n",
      "Epoch:  44 ; Loss:tf.Tensor(0.07401904, shape=(), dtype=float32)\n",
      "Epoch:  45 ; Loss:tf.Tensor(0.075676225, shape=(), dtype=float32)\n",
      "Epoch:  46 ; Loss:tf.Tensor(0.05928084, shape=(), dtype=float32)\n",
      "Epoch:  47 ; Loss:tf.Tensor(0.081792474, shape=(), dtype=float32)\n",
      "Epoch:  48 ; Loss:tf.Tensor(0.06270057, shape=(), dtype=float32)\n",
      "Epoch:  49 ; Loss:tf.Tensor(0.08049409, shape=(), dtype=float32)\n",
      "Epoch:  50 ; Loss:tf.Tensor(0.056281622, shape=(), dtype=float32)\n",
      "Epoch:  51 ; Loss:tf.Tensor(0.06260548, shape=(), dtype=float32)\n",
      "Epoch:  52 ; Loss:tf.Tensor(0.08155204, shape=(), dtype=float32)\n",
      "Epoch:  53 ; Loss:tf.Tensor(0.069630854, shape=(), dtype=float32)\n",
      "Epoch:  54 ; Loss:tf.Tensor(0.08099453, shape=(), dtype=float32)\n",
      "Epoch:  55 ; Loss:tf.Tensor(0.058982518, shape=(), dtype=float32)\n",
      "Epoch:  56 ; Loss:tf.Tensor(0.07197034, shape=(), dtype=float32)\n",
      "Epoch:  57 ; Loss:tf.Tensor(0.06828146, shape=(), dtype=float32)\n",
      "Epoch:  58 ; Loss:tf.Tensor(0.07765415, shape=(), dtype=float32)\n",
      "Epoch:  59 ; Loss:tf.Tensor(0.070515804, shape=(), dtype=float32)\n",
      "Epoch:  60 ; Loss:tf.Tensor(0.078413494, shape=(), dtype=float32)\n",
      "Epoch:  61 ; Loss:tf.Tensor(0.07477002, shape=(), dtype=float32)\n",
      "Epoch:  62 ; Loss:tf.Tensor(0.057968456, shape=(), dtype=float32)\n",
      "Epoch:  63 ; Loss:tf.Tensor(0.051736638, shape=(), dtype=float32)\n",
      "Epoch:  64 ; Loss:tf.Tensor(0.06564505, shape=(), dtype=float32)\n",
      "Epoch:  65 ; Loss:tf.Tensor(0.06603419, shape=(), dtype=float32)\n",
      "Epoch:  66 ; Loss:tf.Tensor(0.07739326, shape=(), dtype=float32)\n",
      "Epoch:  67 ; Loss:tf.Tensor(0.07257007, shape=(), dtype=float32)\n",
      "Epoch:  68 ; Loss:tf.Tensor(0.058615755, shape=(), dtype=float32)\n",
      "Epoch:  69 ; Loss:tf.Tensor(0.075814165, shape=(), dtype=float32)\n",
      "Epoch:  70 ; Loss:tf.Tensor(0.073233575, shape=(), dtype=float32)\n",
      "Epoch:  71 ; Loss:tf.Tensor(0.07612256, shape=(), dtype=float32)\n",
      "Epoch:  72 ; Loss:tf.Tensor(0.076461904, shape=(), dtype=float32)\n",
      "Epoch:  73 ; Loss:tf.Tensor(0.070397496, shape=(), dtype=float32)\n",
      "Epoch:  74 ; Loss:tf.Tensor(0.06687045, shape=(), dtype=float32)\n",
      "Epoch:  75 ; Loss:tf.Tensor(0.07775635, shape=(), dtype=float32)\n",
      "Epoch:  76 ; Loss:tf.Tensor(0.06303065, shape=(), dtype=float32)\n",
      "Epoch:  77 ; Loss:tf.Tensor(0.0777349, shape=(), dtype=float32)\n",
      "Epoch:  78 ; Loss:tf.Tensor(0.06373473, shape=(), dtype=float32)\n",
      "Epoch:  79 ; Loss:tf.Tensor(0.07933567, shape=(), dtype=float32)\n",
      "Epoch:  80 ; Loss:tf.Tensor(0.08207783, shape=(), dtype=float32)\n",
      "Epoch:  81 ; Loss:tf.Tensor(0.061040685, shape=(), dtype=float32)\n",
      "Epoch:  82 ; Loss:tf.Tensor(0.078635626, shape=(), dtype=float32)\n",
      "Epoch:  83 ; Loss:tf.Tensor(0.06946561, shape=(), dtype=float32)\n",
      "Epoch:  84 ; Loss:tf.Tensor(0.050449166, shape=(), dtype=float32)\n",
      "Epoch:  85 ; Loss:tf.Tensor(0.0812616, shape=(), dtype=float32)\n",
      "Epoch:  86 ; Loss:tf.Tensor(0.062258054, shape=(), dtype=float32)\n",
      "Epoch:  87 ; Loss:tf.Tensor(0.04968095, shape=(), dtype=float32)\n",
      "Epoch:  88 ; Loss:tf.Tensor(0.082280114, shape=(), dtype=float32)\n",
      "Epoch:  89 ; Loss:tf.Tensor(0.05888069, shape=(), dtype=float32)\n",
      "Epoch:  90 ; Loss:tf.Tensor(0.07295295, shape=(), dtype=float32)\n",
      "Epoch:  91 ; Loss:tf.Tensor(0.060790963, shape=(), dtype=float32)\n",
      "Epoch:  92 ; Loss:tf.Tensor(0.068922274, shape=(), dtype=float32)\n",
      "Epoch:  93 ; Loss:tf.Tensor(0.059635967, shape=(), dtype=float32)\n",
      "Epoch:  94 ; Loss:tf.Tensor(0.0766091, shape=(), dtype=float32)\n",
      "Epoch:  95 ; Loss:tf.Tensor(0.059926968, shape=(), dtype=float32)\n",
      "Epoch:  96 ; Loss:tf.Tensor(0.07457156, shape=(), dtype=float32)\n",
      "Epoch:  97 ; Loss:tf.Tensor(0.0595554, shape=(), dtype=float32)\n",
      "Epoch:  98 ; Loss:tf.Tensor(0.057127308, shape=(), dtype=float32)\n",
      "Epoch:  99 ; Loss:tf.Tensor(0.056714363, shape=(), dtype=float32)\n",
      "Epoch:  100 ; Loss:tf.Tensor(0.081793115, shape=(), dtype=float32)\n",
      "Epoch:  101 ; Loss:tf.Tensor(0.06843782, shape=(), dtype=float32)\n",
      "Epoch:  102 ; Loss:tf.Tensor(0.04844214, shape=(), dtype=float32)\n",
      "Epoch:  103 ; Loss:tf.Tensor(0.05659596, shape=(), dtype=float32)\n",
      "Epoch:  104 ; Loss:tf.Tensor(0.079841934, shape=(), dtype=float32)\n",
      "Epoch:  105 ; Loss:tf.Tensor(0.058656152, shape=(), dtype=float32)\n",
      "Epoch:  106 ; Loss:tf.Tensor(0.076760836, shape=(), dtype=float32)\n",
      "Epoch:  107 ; Loss:tf.Tensor(0.062124815, shape=(), dtype=float32)\n",
      "Epoch:  108 ; Loss:tf.Tensor(0.077487245, shape=(), dtype=float32)\n",
      "Epoch:  109 ; Loss:tf.Tensor(0.063500755, shape=(), dtype=float32)\n",
      "Epoch:  110 ; Loss:tf.Tensor(0.080800444, shape=(), dtype=float32)\n",
      "Epoch:  111 ; Loss:tf.Tensor(0.061181124, shape=(), dtype=float32)\n",
      "Epoch:  112 ; Loss:tf.Tensor(0.07707966, shape=(), dtype=float32)\n",
      "Epoch:  113 ; Loss:tf.Tensor(0.059208333, shape=(), dtype=float32)\n",
      "Epoch:  114 ; Loss:tf.Tensor(0.0825182, shape=(), dtype=float32)\n",
      "Epoch:  115 ; Loss:tf.Tensor(0.058642652, shape=(), dtype=float32)\n",
      "Epoch:  116 ; Loss:tf.Tensor(0.0801273, shape=(), dtype=float32)\n",
      "Epoch:  117 ; Loss:tf.Tensor(0.06071994, shape=(), dtype=float32)\n",
      "Epoch:  118 ; Loss:tf.Tensor(0.08264771, shape=(), dtype=float32)\n",
      "Epoch:  119 ; Loss:tf.Tensor(0.058629386, shape=(), dtype=float32)\n",
      "Epoch:  120 ; Loss:tf.Tensor(0.06538175, shape=(), dtype=float32)\n",
      "Epoch:  121 ; Loss:tf.Tensor(0.0596427, shape=(), dtype=float32)\n",
      "Epoch:  122 ; Loss:tf.Tensor(0.08289805, shape=(), dtype=float32)\n",
      "Epoch:  123 ; Loss:tf.Tensor(0.056064907, shape=(), dtype=float32)\n",
      "Epoch:  124 ; Loss:tf.Tensor(0.081313826, shape=(), dtype=float32)\n",
      "Epoch:  125 ; Loss:tf.Tensor(0.060466643, shape=(), dtype=float32)\n",
      "Epoch:  126 ; Loss:tf.Tensor(0.07089348, shape=(), dtype=float32)\n",
      "Epoch:  127 ; Loss:tf.Tensor(0.0581189, shape=(), dtype=float32)\n",
      "Epoch:  128 ; Loss:tf.Tensor(0.0816416, shape=(), dtype=float32)\n"
     ]
    }
   ],
   "source": [
    "prob = prob / 255\n",
    "ann = NeuronNetwork(cluster, prob)\n",
    "ann.train()"
   ]
  },
  {
   "cell_type": "code",
   "execution_count": 12,
   "id": "e90fde42",
   "metadata": {},
   "outputs": [],
   "source": [
    "evalYPath = r\"D:\\y.csv\"\n",
    "dataEvalY = pandas.read_csv(evalYPath)\n",
    "dataEvalY = dataEvalY.to_numpy()\n",
    "dataEvalY = np.reshape(dataEvalY, [-1])"
   ]
  },
  {
   "cell_type": "code",
   "execution_count": 13,
   "id": "d2dbf81a",
   "metadata": {},
   "outputs": [],
   "source": [
    "dataOriX = tf.cast(tf.constant(dataNP[:,:,None]), tf.float32)\n",
    "dataPredictY = ann.predict(dataOriX)"
   ]
  },
  {
   "cell_type": "code",
   "execution_count": 14,
   "id": "524e200b",
   "metadata": {},
   "outputs": [],
   "source": [
    "dataPredictMappedY = deMuLaw(dataPredictY * 255).reshape([-1])\n",
    "pe = ProbabilityEstimation(dataPredictMappedY[:,None], 2)\n",
    "pe.run()\n",
    "mus,_ = pe.getDataSets()\n",
    "dataPredictMappedY = dataPredictMappedY.reshape([-1]) < [np.mean(mus)]"
   ]
  },
  {
   "cell_type": "code",
   "execution_count": 15,
   "id": "50be049b",
   "metadata": {},
   "outputs": [],
   "source": [
    "dataEvalY = np.reshape(dataEvalY, [-1])"
   ]
  },
  {
   "cell_type": "code",
   "execution_count": 16,
   "id": "77d880ab",
   "metadata": {},
   "outputs": [],
   "source": [
    "correctCount = np.sum(dataPredictMappedY == dataEvalY)"
   ]
  },
  {
   "cell_type": "code",
   "execution_count": 17,
   "id": "1c406e12",
   "metadata": {},
   "outputs": [
    {
     "name": "stdout",
     "output_type": "stream",
     "text": [
      "Accuracy:  0.061729942086903515\n",
      "AUC:  0.5053194560119841\n"
     ]
    }
   ],
   "source": [
    "accuracy = correctCount / dataEvalY.shape[0]\n",
    "from sklearn.metrics import roc_auc_score\n",
    "print('Accuracy: ', accuracy)\n",
    "print('AUC: ', roc_auc_score(dataEvalY, dataPredictMappedY))"
   ]
  },
  {
   "cell_type": "code",
   "execution_count": null,
   "id": "ed6d8360",
   "metadata": {},
   "outputs": [],
   "source": []
  }
 ],
 "metadata": {
  "kernelspec": {
   "display_name": "cogs118b",
   "language": "python",
   "name": "cogs118b"
  },
  "language_info": {
   "codemirror_mode": {
    "name": "ipython",
    "version": 3
   },
   "file_extension": ".py",
   "mimetype": "text/x-python",
   "name": "python",
   "nbconvert_exporter": "python",
   "pygments_lexer": "ipython3",
   "version": "3.8.12"
  }
 },
 "nbformat": 4,
 "nbformat_minor": 5
}
