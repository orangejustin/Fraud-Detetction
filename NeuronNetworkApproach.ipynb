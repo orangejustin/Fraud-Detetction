{
 "cells": [
  {
   "cell_type": "code",
   "execution_count": 12,
   "id": "764bd50b",
   "metadata": {},
   "outputs": [],
   "source": [
    "import tensorflow as tf\n",
    "from tensorflow import keras\n",
    "from tensorflow.keras import layers\n",
    "import pandas\n",
    "import numpy"
   ]
  },
  {
   "cell_type": "markdown",
   "id": "f02b4f8a",
   "metadata": {},
   "source": [
    "## On raw data"
   ]
  },
  {
   "cell_type": "code",
   "execution_count": 2,
   "id": "4e9d99d3",
   "metadata": {},
   "outputs": [],
   "source": [
    "xPath = r\"D:\\X.csv\"\n",
    "yPath = r\"D:\\y.csv\"\n",
    "dataX = pandas.read_csv(xPath)\n",
    "dataY = pandas.read_csv(yPath)\n",
    "dataX = dataX.to_numpy()\n",
    "dataY = dataY.to_numpy()"
   ]
  },
  {
   "cell_type": "code",
   "execution_count": 3,
   "id": "651b46fe",
   "metadata": {},
   "outputs": [],
   "source": [
    "trainX = numpy.reshape(dataX, [dataX.shape[0], dataX.shape[1]])\n",
    "trainY = numpy.reshape(dataY, [trainX.shape[0]])\n",
    "trainY = tf.one_hot(trainY, 2)"
   ]
  },
  {
   "cell_type": "code",
   "execution_count": 4,
   "id": "89897de7",
   "metadata": {},
   "outputs": [],
   "source": [
    "model = keras.Sequential(\n",
    "    [\n",
    "        layers.Dense(64, activation='relu'),\n",
    "        layers.Dense(2, activation='softmax')\n",
    "    ]\n",
    ")\n",
    "\n",
    "log_dir=\"tensorboard_log\"\n",
    "tensorboard = keras.callbacks.TensorBoard(log_dir=log_dir, histogram_freq=1)"
   ]
  },
  {
   "cell_type": "code",
   "execution_count": 5,
   "id": "4a6de4db",
   "metadata": {},
   "outputs": [],
   "source": [
    "model.compile(optimizer='adam', loss='categorical_crossentropy', metrics=['accuracy'])"
   ]
  },
  {
   "cell_type": "code",
   "execution_count": 6,
   "id": "e903d05d",
   "metadata": {},
   "outputs": [
    {
     "name": "stdout",
     "output_type": "stream",
     "text": [
      "Epoch 1/2\n",
      "3461/3461 [==============================] - 18s 5ms/step - loss: 24.0970 - accuracy: 0.9419 - val_loss: 6.8452 - val_accuracy: 0.9214\n",
      "Epoch 2/2\n",
      "3461/3461 [==============================] - 17s 5ms/step - loss: 17.2977 - accuracy: 0.9449 - val_loss: 4.2962 - val_accuracy: 0.9585\n"
     ]
    },
    {
     "data": {
      "text/plain": [
       "<keras.callbacks.History at 0x1e28aabbe20>"
      ]
     },
     "execution_count": 6,
     "metadata": {},
     "output_type": "execute_result"
    }
   ],
   "source": [
    "model.fit(trainX,trainY,batch_size=128,epochs=2, validation_split=0.25, callbacks=[tensorboard])"
   ]
  },
  {
   "cell_type": "code",
   "execution_count": 9,
   "id": "a82d66d6",
   "metadata": {},
   "outputs": [],
   "source": [
    "oriTestY = model.predict(trainX)\n",
    "oriTestY = numpy.argmax(oriTestY,axis=1)"
   ]
  },
  {
   "cell_type": "code",
   "execution_count": 11,
   "id": "c0d4caad",
   "metadata": {},
   "outputs": [
    {
     "name": "stdout",
     "output_type": "stream",
     "text": [
      "Accuracy:  0.9549276932976598\n",
      "AUC:  0.6638960361224284\n"
     ]
    }
   ],
   "source": [
    "from sklearn.metrics import roc_auc_score\n",
    "print('Accuracy: ', 1 - sum(oriTestY != dataY.reshape([-1]))/dataY.shape[0])\n",
    "print('AUC: ', roc_auc_score(dataY.reshape([-1]), oriTestY))"
   ]
  },
  {
   "cell_type": "markdown",
   "id": "2aac40a1",
   "metadata": {},
   "source": [
    "## On PCA_30 data"
   ]
  },
  {
   "cell_type": "code",
   "execution_count": 13,
   "id": "45b4f17c",
   "metadata": {},
   "outputs": [],
   "source": [
    "xPCAPath = r\"X_pca_30.csv\"\n",
    "dataPCAX = pandas.read_csv(xPCAPath)\n",
    "dataPCAX = dataPCAX.to_numpy()"
   ]
  },
  {
   "cell_type": "code",
   "execution_count": 14,
   "id": "94f3302e",
   "metadata": {},
   "outputs": [],
   "source": [
    "trainPCAX = numpy.reshape(dataPCAX, [dataPCAX.shape[0], dataPCAX.shape[1]])"
   ]
  },
  {
   "cell_type": "code",
   "execution_count": 15,
   "id": "3c8e87ec",
   "metadata": {},
   "outputs": [],
   "source": [
    "model = keras.Sequential(\n",
    "    [\n",
    "        layers.Dense(64, activation='relu'),\n",
    "        layers.Dense(2, activation='softmax')\n",
    "    ]\n",
    ")\n",
    "\n",
    "log_dir=\"tensorboard_log_pca\"\n",
    "tensorboard = keras.callbacks.TensorBoard(log_dir=log_dir, histogram_freq=1)"
   ]
  },
  {
   "cell_type": "code",
   "execution_count": 16,
   "id": "6182ccbd",
   "metadata": {},
   "outputs": [],
   "source": [
    "model.compile(optimizer='adam', loss='categorical_crossentropy', metrics=['accuracy'])"
   ]
  },
  {
   "cell_type": "code",
   "execution_count": 17,
   "id": "57f4dc78",
   "metadata": {},
   "outputs": [
    {
     "name": "stdout",
     "output_type": "stream",
     "text": [
      "Epoch 1/2\n",
      "3461/3461 [==============================] - 16s 5ms/step - loss: 0.1597 - accuracy: 0.9648 - val_loss: 0.1465 - val_accuracy: 0.9644\n",
      "Epoch 2/2\n",
      "3461/3461 [==============================] - 16s 4ms/step - loss: 0.1435 - accuracy: 0.9646 - val_loss: 0.1453 - val_accuracy: 0.9635\n"
     ]
    },
    {
     "data": {
      "text/plain": [
       "<keras.callbacks.History at 0x1e726f11040>"
      ]
     },
     "execution_count": 17,
     "metadata": {},
     "output_type": "execute_result"
    }
   ],
   "source": [
    "model.fit(trainPCAX,trainY,batch_size=128,epochs=2, validation_split=0.25, callbacks=[tensorboard])"
   ]
  },
  {
   "cell_type": "code",
   "execution_count": 18,
   "id": "f794e772",
   "metadata": {},
   "outputs": [],
   "source": [
    "oriTestPCAY = model.predict(trainPCAX)\n",
    "oriTestPCAY = numpy.argmax(oriTestPCAY,axis=1)"
   ]
  },
  {
   "cell_type": "code",
   "execution_count": 19,
   "id": "381a32f2",
   "metadata": {},
   "outputs": [
    {
     "name": "stdout",
     "output_type": "stream",
     "text": [
      "Accuracy:  0.9642598299861144\n",
      "AUC:  0.5008239835161317\n"
     ]
    }
   ],
   "source": [
    "print('Accuracy: ', 1 - sum(oriTestPCAY != dataY.reshape([-1]))/dataY.shape[0])\n",
    "print('AUC: ', roc_auc_score(dataY.reshape([-1]), oriTestPCAY))"
   ]
  },
  {
   "cell_type": "code",
   "execution_count": null,
   "id": "6b804691",
   "metadata": {},
   "outputs": [],
   "source": []
  }
 ],
 "metadata": {
  "kernelspec": {
   "display_name": "cogs118b",
   "language": "python",
   "name": "cogs118b"
  },
  "language_info": {
   "codemirror_mode": {
    "name": "ipython",
    "version": 3
   },
   "file_extension": ".py",
   "mimetype": "text/x-python",
   "name": "python",
   "nbconvert_exporter": "python",
   "pygments_lexer": "ipython3",
   "version": "3.8.12"
  }
 },
 "nbformat": 4,
 "nbformat_minor": 5
}
