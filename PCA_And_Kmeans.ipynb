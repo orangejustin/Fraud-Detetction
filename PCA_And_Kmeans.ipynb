{
 "cells": [
  {
   "cell_type": "code",
   "execution_count": 1,
   "id": "441daaa3",
   "metadata": {},
   "outputs": [],
   "source": [
    "from ProbablityEstimation import ProbabilityEstimation\n",
    "import pandas\n",
    "import numpy as np"
   ]
  },
  {
   "cell_type": "markdown",
   "id": "9187940e",
   "metadata": {},
   "source": [
    "## On PCA_30 data"
   ]
  },
  {
   "cell_type": "code",
   "execution_count": 2,
   "id": "3ef233d4",
   "metadata": {},
   "outputs": [],
   "source": [
    "filePath = r\"X_pca_30.csv\"\n",
    "data = pandas.read_csv(filePath)\n",
    "dataNP = data.to_numpy()"
   ]
  },
  {
   "cell_type": "code",
   "execution_count": 3,
   "id": "4b17a3f3",
   "metadata": {},
   "outputs": [],
   "source": [
    "def calcDistance(data, dimension):\n",
    "    return np.power(np.sum(data*data, axis=1), 1/dimension)\n",
    "\n",
    "distanceToOrigin = calcDistance(dataNP, dataNP.shape[1])"
   ]
  },
  {
   "cell_type": "code",
   "execution_count": 4,
   "id": "16d2ed38",
   "metadata": {},
   "outputs": [],
   "source": [
    "pe = ProbabilityEstimation(distanceToOrigin[:,None], 2)"
   ]
  },
  {
   "cell_type": "code",
   "execution_count": 5,
   "id": "8d10c4bd",
   "metadata": {},
   "outputs": [],
   "source": [
    "pe.run()"
   ]
  },
  {
   "cell_type": "code",
   "execution_count": 6,
   "id": "19489992",
   "metadata": {},
   "outputs": [],
   "source": [
    "Kmus, _ = pe.getDataSets()"
   ]
  },
  {
   "cell_type": "code",
   "execution_count": 7,
   "id": "8cc1b115",
   "metadata": {},
   "outputs": [],
   "source": [
    "midPoint = np.mean(Kmus)"
   ]
  },
  {
   "cell_type": "code",
   "execution_count": 8,
   "id": "d907e84a",
   "metadata": {},
   "outputs": [],
   "source": [
    "yPath = r\"D:\\y.csv\"\n",
    "dataY = pandas.read_csv(yPath)\n",
    "dataY = dataY.to_numpy()"
   ]
  },
  {
   "cell_type": "code",
   "execution_count": 9,
   "id": "a30fe121",
   "metadata": {},
   "outputs": [],
   "source": [
    "newDistance = distanceToOrigin - midPoint\n",
    "newDistance = newDistance > [0]\n",
    "result = newDistance != np.reshape(dataY, [-1])"
   ]
  },
  {
   "cell_type": "code",
   "execution_count": 11,
   "id": "34b7c512",
   "metadata": {},
   "outputs": [
    {
     "name": "stdout",
     "output_type": "stream",
     "text": [
      "Accuracy:  0.8727791512852643\n",
      "AUC:  0.5515576513402807\n"
     ]
    }
   ],
   "source": [
    "from sklearn.metrics import roc_auc_score\n",
    "print('Accuracy: ', 1-np.sum(result)/len(result))\n",
    "print('AUC: ', roc_auc_score(np.reshape(dataY, [-1]), newDistance))"
   ]
  },
  {
   "cell_type": "markdown",
   "id": "ea836845",
   "metadata": {},
   "source": [
    "## On raw data"
   ]
  },
  {
   "cell_type": "code",
   "execution_count": 12,
   "id": "0ecb750b",
   "metadata": {},
   "outputs": [],
   "source": [
    "filePath = r\"D:\\X.csv\"\n",
    "data = pandas.read_csv(filePath)\n",
    "dataNP = data.to_numpy()"
   ]
  },
  {
   "cell_type": "code",
   "execution_count": 13,
   "id": "6ffec201",
   "metadata": {},
   "outputs": [],
   "source": [
    "distanceToOrigin = calcDistance(dataNP, dataNP.shape[1])"
   ]
  },
  {
   "cell_type": "code",
   "execution_count": 14,
   "id": "7bc5b767",
   "metadata": {},
   "outputs": [],
   "source": [
    "pe = ProbabilityEstimation(distanceToOrigin[:,None], 2)"
   ]
  },
  {
   "cell_type": "code",
   "execution_count": 15,
   "id": "c99166f2",
   "metadata": {},
   "outputs": [],
   "source": [
    "pe.run()"
   ]
  },
  {
   "cell_type": "code",
   "execution_count": 16,
   "id": "b49de09d",
   "metadata": {},
   "outputs": [],
   "source": [
    "Kmus, _ = pe.getDataSets()"
   ]
  },
  {
   "cell_type": "code",
   "execution_count": 17,
   "id": "02c9134d",
   "metadata": {},
   "outputs": [],
   "source": [
    "midPoint = np.mean(Kmus)"
   ]
  },
  {
   "cell_type": "code",
   "execution_count": 18,
   "id": "aec75161",
   "metadata": {},
   "outputs": [],
   "source": [
    "newDistance = distanceToOrigin - midPoint\n",
    "newDistance = newDistance > [0]\n",
    "result = newDistance != np.reshape(dataY, [-1])"
   ]
  },
  {
   "cell_type": "code",
   "execution_count": 19,
   "id": "942c29ca",
   "metadata": {},
   "outputs": [
    {
     "name": "stdout",
     "output_type": "stream",
     "text": [
      "Accuracy:  0.7844481322179699\n",
      "AUC:  0.64594671781621\n"
     ]
    }
   ],
   "source": [
    "print('Accuracy: ', 1-np.sum(result)/len(result))\n",
    "print('AUC: ', roc_auc_score(np.reshape(dataY, [-1]), newDistance))"
   ]
  },
  {
   "cell_type": "code",
   "execution_count": null,
   "id": "7cc2b0ff",
   "metadata": {},
   "outputs": [],
   "source": []
  }
 ],
 "metadata": {
  "kernelspec": {
   "display_name": "cogs118b",
   "language": "python",
   "name": "cogs118b"
  },
  "language_info": {
   "codemirror_mode": {
    "name": "ipython",
    "version": 3
   },
   "file_extension": ".py",
   "mimetype": "text/x-python",
   "name": "python",
   "nbconvert_exporter": "python",
   "pygments_lexer": "ipython3",
   "version": "3.8.12"
  }
 },
 "nbformat": 4,
 "nbformat_minor": 5
}
